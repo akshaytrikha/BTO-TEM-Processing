{
 "cells": [
  {
   "cell_type": "markdown",
   "metadata": {},
   "source": [
    "# TEM Image Processing Pipeline\n",
    "\n",
    "In this notebook we implement an image processing pipeline to extract information from transmission electron microscopy images of barium titanate nanoparticles in a low density polyethylene _matrix_. Information gained from this process includes the:\n",
    "- number of particles, $N_p$\n",
    "- number of agglomerates, $N_a$\n",
    "- size of particles (longest and shortest chord lengths)\n",
    "- locations of particles (x,y)\n",
    "- number of particles per agglomerate, $n$\n",
    "- factor of agglomeration\n",
    "\n",
    "where factor of agglomeration is given by:\n",
    "$$F_a = \\frac{N_a \\cdot n}{N_p}$$"
   ]
  },
  {
   "cell_type": "markdown",
   "metadata": {},
   "source": [
    "## 1. Import necessary libraries and setup"
   ]
  },
  {
   "cell_type": "code",
   "execution_count": 1,
   "metadata": {},
   "outputs": [
    {
     "name": "stdout",
     "output_type": "stream",
     "text": [
      "time to import libraries: 0.9006952080000001 seconds\n"
     ]
    }
   ],
   "source": [
    "# for timing how long it takes to import libraries\n",
    "import time\n",
    "t_lib_init = time.perf_counter()\n",
    "\n",
    "import cv2 as cv                   # OpenCV for image processing\n",
    "import matplotlib.pyplot as plt    # Matplotlib for visualizing\n",
    "import numpy as np                 # NumPy for quick maths\n",
    "from collections import Counter    # dictionary quick maths\n",
    "from tem_functions import *        # import necessary functions from separate python file\n",
    "\n",
    "t_lib_final = time.perf_counter()\n",
    "\n",
    "print(\"time to import libraries:\", str(t_lib_final - t_lib_init), \"seconds\")"
   ]
  },
  {
   "cell_type": "markdown",
   "metadata": {},
   "source": [
    "Define constants"
   ]
  },
  {
   "cell_type": "code",
   "execution_count": 2,
   "metadata": {},
   "outputs": [
    {
     "name": "stdout",
     "output_type": "stream",
     "text": [
      "0.8849557522123894 nm per pixel\n"
     ]
    }
   ],
   "source": [
    "# In TES-II-36a.tif there are 113 pixels per 100 nm\n",
    "# In Challenge_1.jpg there are 92 pixels per 200nm = 46 pixels per 100 nm\n",
    "\n",
    "t_pipe_init = time.perf_counter()\n",
    "\n",
    "# nm_per_pixel = 100 / 46\n",
    "# nm_per_pixel = 100 / 95\n",
    "nm_per_pixel = 100 / 113\n",
    "expected_radius = 100\n",
    "print(str(nm_per_pixel), \"nm per pixel\")"
   ]
  }
 ],
 "metadata": {
  "kernelspec": {
   "display_name": "Python 3",
   "language": "python",
   "name": "python3"
  },
  "language_info": {
   "codemirror_mode": {
    "name": "ipython",
    "version": 3
   },
   "file_extension": ".py",
   "mimetype": "text/x-python",
   "name": "python",
   "nbconvert_exporter": "python",
   "pygments_lexer": "ipython3",
   "version": "3.7.6"
  }
 },
 "nbformat": 4,
 "nbformat_minor": 4
}
